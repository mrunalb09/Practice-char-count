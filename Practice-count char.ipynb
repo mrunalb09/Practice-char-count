{
 "cells": [
  {
   "cell_type": "code",
   "execution_count": 14,
   "metadata": {},
   "outputs": [
    {
     "name": "stdout",
     "output_type": "stream",
     "text": [
      "a 7\n",
      "c 5\n",
      "e 7\n",
      "g 2\n",
      "h 5\n",
      "i 5\n",
      "m 3\n",
      "n 3\n",
      "o 2\n",
      "p 2\n",
      "r 4\n",
      "s 5\n",
      "t 5\n"
     ]
    }
   ],
   "source": [
    "chars = \"abcdefghijklmnopqrstuvwxyz\"\n",
    "check_string = \"i am checking this string to see how many times each character appears\"\n",
    "\n",
    "for char in chars:\n",
    "    count = check_string.count(char)\n",
    "    if count > 1:\n",
    "        print(char, count)\n"
   ]
  },
  {
   "cell_type": "code",
   "execution_count": 15,
   "metadata": {},
   "outputs": [
    {
     "name": "stdout",
     "output_type": "stream",
     "text": [
      "{'i': 5, ' ': 12, 'a': 7, 'm': 3, 'c': 5, 'h': 5, 'e': 7, 'k': 1, 'n': 3, 'g': 2, 't': 5, 's': 5, 'r': 4, 'o': 2, 'w': 1, 'y': 1, 'p': 2}\n"
     ]
    }
   ],
   "source": [
    "count = {}\n",
    "for s in check_string:\n",
    "    if s in count:\n",
    "        count[s] += 1\n",
    "    else:\n",
    "        count[s] = 1\n",
    "        \n",
    "print(count)"
   ]
  },
  {
   "cell_type": "code",
   "execution_count": 13,
   "metadata": {},
   "outputs": [
    {
     "name": "stdout",
     "output_type": "stream",
     "text": [
      "Original Array: [6, 13, 2, 10, 3, 5]\n",
      "Array length: 6\n",
      "Difference of consecutive array elements: [-7, 11, -8, 7, -2]\n",
      "Max difference pos: 2\n",
      "Least difference pos: 3\n"
     ]
    }
   ],
   "source": [
    "arr = [6,13,2,10,3,5]\n",
    "\n",
    "store_diff=[]\n",
    "\n",
    "print(\"Original Array:\",arr)\n",
    "print(\"Array length:\",len(arr))\n",
    "\n",
    "for i in range(0,len(arr)-1):\n",
    "    #print(arr[i],arr[i+1])\n",
    "    store_diff1 = arr[i] - arr[i+1]\n",
    "    store_diff.append(store_diff1)\n",
    "    \n",
    "print(\"Difference of consecutive array elements:\",store_diff)\n",
    "print(\"Max difference pos:\",store_diff.index(max(store_diff))+1)\n",
    "print(\"Least difference pos:\",store_diff.index(min(store_diff))+1)"
   ]
  },
  {
   "cell_type": "code",
   "execution_count": null,
   "metadata": {},
   "outputs": [],
   "source": []
  }
 ],
 "metadata": {
  "kernelspec": {
   "display_name": "Python 3",
   "language": "python",
   "name": "python3"
  },
  "language_info": {
   "codemirror_mode": {
    "name": "ipython",
    "version": 3
   },
   "file_extension": ".py",
   "mimetype": "text/x-python",
   "name": "python",
   "nbconvert_exporter": "python",
   "pygments_lexer": "ipython3",
   "version": "3.7.4"
  }
 },
 "nbformat": 4,
 "nbformat_minor": 2
}
